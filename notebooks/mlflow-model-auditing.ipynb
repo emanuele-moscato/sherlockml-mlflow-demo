{
 "cells": [
  {
   "cell_type": "markdown",
   "metadata": {},
   "source": [
    "# Model auditing with MLflow on SherlockML"
   ]
  },
  {
   "cell_type": "markdown",
   "metadata": {},
   "source": [
    "After installling MLflow (`pip install MLflow`), just import it as any Python library."
   ]
  },
  {
   "cell_type": "code",
   "execution_count": 1,
   "metadata": {},
   "outputs": [],
   "source": [
    "import mlflow\n",
    "from mlflow import log_artifact, log_metric, log_param\n",
    "import mlflow.sklearn\n",
    "import mlflow.tracking"
   ]
  },
  {
   "cell_type": "markdown",
   "metadata": {},
   "source": [
    "MLflow can log various objects (models, parameters, runs, entire projects) and keep track of them through the UI. When something is logged, MLflow creates an `mlruns` folder where it stores the information. You can then run the MLflow UI as described in the readme to this project to see all the information."
   ]
  },
  {
   "cell_type": "markdown",
   "metadata": {},
   "source": [
    "## Load the data (car evaluation dataset)"
   ]
  },
  {
   "cell_type": "markdown",
   "metadata": {},
   "source": [
    "Data downloaded from: http://mlr.cs.umass.edu/ml/datasets/Car+Evaluation"
   ]
  },
  {
   "cell_type": "code",
   "execution_count": 2,
   "metadata": {},
   "outputs": [],
   "source": [
    "import pandas as pd\n",
    "import numpy as np"
   ]
  },
  {
   "cell_type": "code",
   "execution_count": 3,
   "metadata": {
    "scrolled": false
   },
   "outputs": [],
   "source": [
    "data_df = pd.read_csv(\"../data/car.data\", header=None)\n",
    "data_df.columns = ['buying','maint', 'doors', 'persons', 'lug_boot', 'safety', 'class']"
   ]
  },
  {
   "cell_type": "code",
   "execution_count": 4,
   "metadata": {},
   "outputs": [
    {
     "data": {
      "text/html": [
       "<div>\n",
       "<style scoped>\n",
       "    .dataframe tbody tr th:only-of-type {\n",
       "        vertical-align: middle;\n",
       "    }\n",
       "\n",
       "    .dataframe tbody tr th {\n",
       "        vertical-align: top;\n",
       "    }\n",
       "\n",
       "    .dataframe thead th {\n",
       "        text-align: right;\n",
       "    }\n",
       "</style>\n",
       "<table border=\"1\" class=\"dataframe\">\n",
       "  <thead>\n",
       "    <tr style=\"text-align: right;\">\n",
       "      <th></th>\n",
       "      <th>buying</th>\n",
       "      <th>maint</th>\n",
       "      <th>doors</th>\n",
       "      <th>persons</th>\n",
       "      <th>lug_boot</th>\n",
       "      <th>safety</th>\n",
       "      <th>class</th>\n",
       "    </tr>\n",
       "  </thead>\n",
       "  <tbody>\n",
       "    <tr>\n",
       "      <th>0</th>\n",
       "      <td>vhigh</td>\n",
       "      <td>vhigh</td>\n",
       "      <td>2</td>\n",
       "      <td>2</td>\n",
       "      <td>small</td>\n",
       "      <td>low</td>\n",
       "      <td>unacc</td>\n",
       "    </tr>\n",
       "    <tr>\n",
       "      <th>1</th>\n",
       "      <td>vhigh</td>\n",
       "      <td>vhigh</td>\n",
       "      <td>2</td>\n",
       "      <td>2</td>\n",
       "      <td>small</td>\n",
       "      <td>med</td>\n",
       "      <td>unacc</td>\n",
       "    </tr>\n",
       "    <tr>\n",
       "      <th>2</th>\n",
       "      <td>vhigh</td>\n",
       "      <td>vhigh</td>\n",
       "      <td>2</td>\n",
       "      <td>2</td>\n",
       "      <td>small</td>\n",
       "      <td>high</td>\n",
       "      <td>unacc</td>\n",
       "    </tr>\n",
       "    <tr>\n",
       "      <th>3</th>\n",
       "      <td>vhigh</td>\n",
       "      <td>vhigh</td>\n",
       "      <td>2</td>\n",
       "      <td>2</td>\n",
       "      <td>med</td>\n",
       "      <td>low</td>\n",
       "      <td>unacc</td>\n",
       "    </tr>\n",
       "    <tr>\n",
       "      <th>4</th>\n",
       "      <td>vhigh</td>\n",
       "      <td>vhigh</td>\n",
       "      <td>2</td>\n",
       "      <td>2</td>\n",
       "      <td>med</td>\n",
       "      <td>med</td>\n",
       "      <td>unacc</td>\n",
       "    </tr>\n",
       "  </tbody>\n",
       "</table>\n",
       "</div>"
      ],
      "text/plain": [
       "  buying  maint doors persons lug_boot safety  class\n",
       "0  vhigh  vhigh     2       2    small    low  unacc\n",
       "1  vhigh  vhigh     2       2    small    med  unacc\n",
       "2  vhigh  vhigh     2       2    small   high  unacc\n",
       "3  vhigh  vhigh     2       2      med    low  unacc\n",
       "4  vhigh  vhigh     2       2      med    med  unacc"
      ]
     },
     "execution_count": 4,
     "metadata": {},
     "output_type": "execute_result"
    }
   ],
   "source": [
    "data_df.head()"
   ]
  },
  {
   "cell_type": "markdown",
   "metadata": {},
   "source": [
    "## Data exploration"
   ]
  },
  {
   "cell_type": "markdown",
   "metadata": {},
   "source": [
    "The dataset is completely categorical. Let's get some simple information aboutit."
   ]
  },
  {
   "cell_type": "code",
   "execution_count": 5,
   "metadata": {
    "scrolled": true
   },
   "outputs": [
    {
     "data": {
      "text/html": [
       "<div>\n",
       "<style scoped>\n",
       "    .dataframe tbody tr th:only-of-type {\n",
       "        vertical-align: middle;\n",
       "    }\n",
       "\n",
       "    .dataframe tbody tr th {\n",
       "        vertical-align: top;\n",
       "    }\n",
       "\n",
       "    .dataframe thead th {\n",
       "        text-align: right;\n",
       "    }\n",
       "</style>\n",
       "<table border=\"1\" class=\"dataframe\">\n",
       "  <thead>\n",
       "    <tr style=\"text-align: right;\">\n",
       "      <th></th>\n",
       "      <th>buying</th>\n",
       "      <th>maint</th>\n",
       "      <th>doors</th>\n",
       "      <th>persons</th>\n",
       "      <th>lug_boot</th>\n",
       "      <th>safety</th>\n",
       "      <th>class</th>\n",
       "    </tr>\n",
       "  </thead>\n",
       "  <tbody>\n",
       "    <tr>\n",
       "      <th>count</th>\n",
       "      <td>1728</td>\n",
       "      <td>1728</td>\n",
       "      <td>1728</td>\n",
       "      <td>1728</td>\n",
       "      <td>1728</td>\n",
       "      <td>1728</td>\n",
       "      <td>1728</td>\n",
       "    </tr>\n",
       "    <tr>\n",
       "      <th>unique</th>\n",
       "      <td>4</td>\n",
       "      <td>4</td>\n",
       "      <td>4</td>\n",
       "      <td>3</td>\n",
       "      <td>3</td>\n",
       "      <td>3</td>\n",
       "      <td>4</td>\n",
       "    </tr>\n",
       "    <tr>\n",
       "      <th>top</th>\n",
       "      <td>vhigh</td>\n",
       "      <td>vhigh</td>\n",
       "      <td>4</td>\n",
       "      <td>4</td>\n",
       "      <td>med</td>\n",
       "      <td>med</td>\n",
       "      <td>unacc</td>\n",
       "    </tr>\n",
       "    <tr>\n",
       "      <th>freq</th>\n",
       "      <td>432</td>\n",
       "      <td>432</td>\n",
       "      <td>432</td>\n",
       "      <td>576</td>\n",
       "      <td>576</td>\n",
       "      <td>576</td>\n",
       "      <td>1210</td>\n",
       "    </tr>\n",
       "  </tbody>\n",
       "</table>\n",
       "</div>"
      ],
      "text/plain": [
       "       buying  maint doors persons lug_boot safety  class\n",
       "count    1728   1728  1728    1728     1728   1728   1728\n",
       "unique      4      4     4       3        3      3      4\n",
       "top     vhigh  vhigh     4       4      med    med  unacc\n",
       "freq      432    432   432     576      576    576   1210"
      ]
     },
     "execution_count": 5,
     "metadata": {},
     "output_type": "execute_result"
    }
   ],
   "source": [
    "data_df.describe()"
   ]
  },
  {
   "cell_type": "markdown",
   "metadata": {},
   "source": [
    "Let's have a closer look at the classes to which the datapoints belong."
   ]
  },
  {
   "cell_type": "code",
   "execution_count": 6,
   "metadata": {},
   "outputs": [
    {
     "data": {
      "text/plain": [
       "class\n",
       "acc       384\n",
       "good       69\n",
       "unacc    1210\n",
       "vgood      65\n",
       "dtype: int64"
      ]
     },
     "execution_count": 6,
     "metadata": {},
     "output_type": "execute_result"
    }
   ],
   "source": [
    "data_df.groupby(['class']).size()"
   ]
  },
  {
   "cell_type": "markdown",
   "metadata": {},
   "source": [
    "## Train and selection of a model"
   ]
  },
  {
   "cell_type": "markdown",
   "metadata": {},
   "source": [
    "Since the dataset is completely categorical, we choose to use a random forest to predict the class of a datapoint given its features. In particular we want to find the value of the `min_samples_leaf` parameter that gives the best accuracy and log all the results with MLflow."
   ]
  },
  {
   "cell_type": "code",
   "execution_count": 7,
   "metadata": {},
   "outputs": [],
   "source": [
    "from sklearn.model_selection import train_test_split\n",
    "from sklearn.ensemble import RandomForestClassifier"
   ]
  },
  {
   "cell_type": "markdown",
   "metadata": {},
   "source": [
    "First we one-hot-encode the categorical features."
   ]
  },
  {
   "cell_type": "code",
   "execution_count": 8,
   "metadata": {},
   "outputs": [],
   "source": [
    "X = pd.get_dummies(data_df.drop('class', axis=1))\n",
    "Y = data_df['class']"
   ]
  },
  {
   "cell_type": "markdown",
   "metadata": {},
   "source": [
    "Cross validation: we split the data into a train and test dataset. The model will be trained on the training dataset and the accuracy will be evaluated on the test one."
   ]
  },
  {
   "cell_type": "code",
   "execution_count": 9,
   "metadata": {},
   "outputs": [],
   "source": [
    "X_train, X_test, Y_train, Y_test = train_test_split(X, Y, test_size=0.33, random_state=42)"
   ]
  },
  {
   "cell_type": "markdown",
   "metadata": {},
   "source": [
    "We choose a range of values for the `min_samples_leaf` paramenter and we log the accuracy we obtain using each value using MLflow. The information is stored in the `/mlruns/` folder. We can then run the MLflow UI as described in the readme (please start it in the parent folder to `/mlruns/`) and visualise the information about our runs."
   ]
  },
  {
   "cell_type": "code",
   "execution_count": 10,
   "metadata": {},
   "outputs": [],
   "source": [
    "msl_scores = []\n",
    "\n",
    "for min_samples_leaf in range(1, 11):\n",
    "    with mlflow.start_run():\n",
    "        rf_random_state = 42\n",
    "        rf = RandomForestClassifier(min_samples_leaf=min_samples_leaf, random_state=rf_random_state)\n",
    "        rf.fit(X_train, Y_train)\n",
    "        accuracy = rf.score(X_test, Y_test)\n",
    "        msl_scores.append([min_samples_leaf, accuracy])\n",
    "\n",
    "        log_param('min_samples_leaf', min_samples_leaf)\n",
    "        log_param('rf_random_state', rf_random_state)\n",
    "        log_metric('accuracy', accuracy)\n",
    "        mlflow.sklearn.log_model(rf, \"model\")\n",
    "        \n",
    "msl_scores = np.array(msl_scores)"
   ]
  },
  {
   "cell_type": "markdown",
   "metadata": {},
   "source": [
    "Let's select the best model."
   ]
  },
  {
   "cell_type": "code",
   "execution_count": 11,
   "metadata": {
    "scrolled": true
   },
   "outputs": [
    {
     "data": {
      "text/plain": [
       "array([[ 1.        ,  0.91243433],\n",
       "       [ 2.        ,  0.92994746],\n",
       "       [ 3.        ,  0.9352014 ],\n",
       "       [ 4.        ,  0.93169877],\n",
       "       [ 5.        ,  0.91593695],\n",
       "       [ 6.        ,  0.90367776],\n",
       "       [ 7.        ,  0.87390543],\n",
       "       [ 8.        ,  0.88791594],\n",
       "       [ 9.        ,  0.85814361],\n",
       "       [10.        ,  0.86690018]])"
      ]
     },
     "execution_count": 11,
     "metadata": {},
     "output_type": "execute_result"
    }
   ],
   "source": [
    "msl_scores"
   ]
  },
  {
   "cell_type": "code",
   "execution_count": 12,
   "metadata": {
    "scrolled": true
   },
   "outputs": [
    {
     "data": {
      "text/plain": [
       "array([3.       , 0.9352014])"
      ]
     },
     "execution_count": 12,
     "metadata": {},
     "output_type": "execute_result"
    }
   ],
   "source": [
    "msl_scores[np.argmax(msl_scores, axis=0)[-1]]"
   ]
  },
  {
   "cell_type": "code",
   "execution_count": 13,
   "metadata": {},
   "outputs": [
    {
     "name": "stdout",
     "output_type": "stream",
     "text": [
      "Best model:\n",
      "min_sample_leaf = 3.0\n",
      "accuracy = 0.9352014010507881\n"
     ]
    }
   ],
   "source": [
    "print(\"Best model:\")\n",
    "print(\"min_sample_leaf =\", msl_scores[np.argmax(msl_scores, axis=0)[-1]][0])\n",
    "print(\"accuracy =\", msl_scores[np.argmax(msl_scores, axis=0)[-1]][1])"
   ]
  },
  {
   "cell_type": "markdown",
   "metadata": {},
   "source": [
    "Load the best model using MLflow. From the UI we can see the ID of the run that obtained the best accuracy and from the ID we can use `mlflow.sklearn.load_model()` to get it."
   ]
  },
  {
   "cell_type": "code",
   "execution_count": 14,
   "metadata": {
    "scrolled": true
   },
   "outputs": [],
   "source": [
    "#Edit this checking the right value from the UI!\n",
    "run_id = '3a066de05bdc4fe2a03de8b71c0b1fe3'\n",
    "\n",
    "rf_best = mlflow.sklearn.load_model('model', run_id=run_id)"
   ]
  },
  {
   "cell_type": "markdown",
   "metadata": {},
   "source": [
    "Evaluate feature importance (how much each feature influences the classification)."
   ]
  },
  {
   "cell_type": "code",
   "execution_count": 15,
   "metadata": {},
   "outputs": [
    {
     "data": {
      "text/html": [
       "<script>requirejs.config({paths: { 'plotly': ['https://cdn.plot.ly/plotly-latest.min']},});if(!window.Plotly) {{require(['plotly'],function(plotly) {window.Plotly=plotly;});}}</script>"
      ],
      "text/vnd.plotly.v1+html": [
       "<script>requirejs.config({paths: { 'plotly': ['https://cdn.plot.ly/plotly-latest.min']},});if(!window.Plotly) {{require(['plotly'],function(plotly) {window.Plotly=plotly;});}}</script>"
      ]
     },
     "metadata": {},
     "output_type": "display_data"
    }
   ],
   "source": [
    "import plotly.graph_objs as go\n",
    "from plotly.offline import init_notebook_mode, iplot\n",
    "\n",
    "init_notebook_mode(connected=True)"
   ]
  },
  {
   "cell_type": "code",
   "execution_count": 16,
   "metadata": {},
   "outputs": [
    {
     "data": {
      "text/html": [
       "<div>\n",
       "<style scoped>\n",
       "    .dataframe tbody tr th:only-of-type {\n",
       "        vertical-align: middle;\n",
       "    }\n",
       "\n",
       "    .dataframe tbody tr th {\n",
       "        vertical-align: top;\n",
       "    }\n",
       "\n",
       "    .dataframe thead th {\n",
       "        text-align: right;\n",
       "    }\n",
       "</style>\n",
       "<table border=\"1\" class=\"dataframe\">\n",
       "  <thead>\n",
       "    <tr style=\"text-align: right;\">\n",
       "      <th></th>\n",
       "      <th>feature</th>\n",
       "      <th>importance</th>\n",
       "    </tr>\n",
       "  </thead>\n",
       "  <tbody>\n",
       "    <tr>\n",
       "      <th>0</th>\n",
       "      <td>safety_low</td>\n",
       "      <td>0.215676</td>\n",
       "    </tr>\n",
       "    <tr>\n",
       "      <th>1</th>\n",
       "      <td>persons_2</td>\n",
       "      <td>0.192787</td>\n",
       "    </tr>\n",
       "    <tr>\n",
       "      <th>2</th>\n",
       "      <td>safety_high</td>\n",
       "      <td>0.104212</td>\n",
       "    </tr>\n",
       "    <tr>\n",
       "      <th>3</th>\n",
       "      <td>persons_4</td>\n",
       "      <td>0.063600</td>\n",
       "    </tr>\n",
       "    <tr>\n",
       "      <th>4</th>\n",
       "      <td>safety_med</td>\n",
       "      <td>0.061845</td>\n",
       "    </tr>\n",
       "    <tr>\n",
       "      <th>5</th>\n",
       "      <td>persons_more</td>\n",
       "      <td>0.057349</td>\n",
       "    </tr>\n",
       "    <tr>\n",
       "      <th>6</th>\n",
       "      <td>maint_vhigh</td>\n",
       "      <td>0.053617</td>\n",
       "    </tr>\n",
       "    <tr>\n",
       "      <th>7</th>\n",
       "      <td>buying_vhigh</td>\n",
       "      <td>0.033833</td>\n",
       "    </tr>\n",
       "    <tr>\n",
       "      <th>8</th>\n",
       "      <td>buying_low</td>\n",
       "      <td>0.032218</td>\n",
       "    </tr>\n",
       "    <tr>\n",
       "      <th>9</th>\n",
       "      <td>maint_low</td>\n",
       "      <td>0.031090</td>\n",
       "    </tr>\n",
       "    <tr>\n",
       "      <th>10</th>\n",
       "      <td>lug_boot_small</td>\n",
       "      <td>0.027243</td>\n",
       "    </tr>\n",
       "    <tr>\n",
       "      <th>11</th>\n",
       "      <td>buying_high</td>\n",
       "      <td>0.026954</td>\n",
       "    </tr>\n",
       "    <tr>\n",
       "      <th>12</th>\n",
       "      <td>maint_high</td>\n",
       "      <td>0.026459</td>\n",
       "    </tr>\n",
       "    <tr>\n",
       "      <th>13</th>\n",
       "      <td>buying_med</td>\n",
       "      <td>0.021860</td>\n",
       "    </tr>\n",
       "    <tr>\n",
       "      <th>14</th>\n",
       "      <td>lug_boot_big</td>\n",
       "      <td>0.011955</td>\n",
       "    </tr>\n",
       "    <tr>\n",
       "      <th>15</th>\n",
       "      <td>maint_med</td>\n",
       "      <td>0.010812</td>\n",
       "    </tr>\n",
       "    <tr>\n",
       "      <th>16</th>\n",
       "      <td>doors_2</td>\n",
       "      <td>0.009696</td>\n",
       "    </tr>\n",
       "    <tr>\n",
       "      <th>17</th>\n",
       "      <td>lug_boot_med</td>\n",
       "      <td>0.005880</td>\n",
       "    </tr>\n",
       "    <tr>\n",
       "      <th>18</th>\n",
       "      <td>doors_5more</td>\n",
       "      <td>0.004924</td>\n",
       "    </tr>\n",
       "    <tr>\n",
       "      <th>19</th>\n",
       "      <td>doors_4</td>\n",
       "      <td>0.004393</td>\n",
       "    </tr>\n",
       "    <tr>\n",
       "      <th>20</th>\n",
       "      <td>doors_3</td>\n",
       "      <td>0.003598</td>\n",
       "    </tr>\n",
       "  </tbody>\n",
       "</table>\n",
       "</div>"
      ],
      "text/plain": [
       "           feature  importance\n",
       "0       safety_low    0.215676\n",
       "1        persons_2    0.192787\n",
       "2      safety_high    0.104212\n",
       "3        persons_4    0.063600\n",
       "4       safety_med    0.061845\n",
       "5     persons_more    0.057349\n",
       "6      maint_vhigh    0.053617\n",
       "7     buying_vhigh    0.033833\n",
       "8       buying_low    0.032218\n",
       "9        maint_low    0.031090\n",
       "10  lug_boot_small    0.027243\n",
       "11     buying_high    0.026954\n",
       "12      maint_high    0.026459\n",
       "13      buying_med    0.021860\n",
       "14    lug_boot_big    0.011955\n",
       "15       maint_med    0.010812\n",
       "16         doors_2    0.009696\n",
       "17    lug_boot_med    0.005880\n",
       "18     doors_5more    0.004924\n",
       "19         doors_4    0.004393\n",
       "20         doors_3    0.003598"
      ]
     },
     "execution_count": 16,
     "metadata": {},
     "output_type": "execute_result"
    }
   ],
   "source": [
    "feature_importances_df = pd.DataFrame(columns=['feature', 'importance'])\n",
    "\n",
    "for i in range(len(rf_best.feature_importances_)):\n",
    "    feature_importances_df = feature_importances_df.append(\n",
    "        pd.Series({'feature':X.columns[i], 'importance':rf_best.feature_importances_[i]}),\n",
    "        ignore_index=True\n",
    "    )\n",
    "\n",
    "feature_importances_df = feature_importances_df.sort_values(by='importance', ascending=False)\n",
    "feature_importances_df = feature_importances_df.reset_index()\n",
    "feature_importances_df = feature_importances_df.drop('index', axis=1)\n",
    "\n",
    "feature_importances_df"
   ]
  },
  {
   "cell_type": "code",
   "execution_count": 17,
   "metadata": {},
   "outputs": [
    {
     "data": {
      "application/vnd.plotly.v1+json": {
       "data": [
        {
         "type": "bar",
         "x": [
          "safety_low",
          "persons_2",
          "safety_high",
          "persons_4",
          "safety_med",
          "persons_more",
          "maint_vhigh",
          "buying_vhigh",
          "buying_low",
          "maint_low",
          "lug_boot_small",
          "buying_high",
          "maint_high",
          "buying_med",
          "lug_boot_big",
          "maint_med",
          "doors_2",
          "lug_boot_med",
          "doors_5more",
          "doors_4",
          "doors_3"
         ],
         "y": [
          0.21567582679932157,
          0.1927872310243188,
          0.1042117246927066,
          0.0635998912197189,
          0.06184505786967827,
          0.05734873043746509,
          0.05361688649268313,
          0.03383252551253405,
          0.03221821559011827,
          0.031089964431758182,
          0.027243210771813946,
          0.026954101661160117,
          0.026458961387267145,
          0.021860148382383055,
          0.011954711251478642,
          0.01081156088299845,
          0.009695854134429003,
          0.005880142544560691,
          0.004924163467638557,
          0.004392817390942494,
          0.0035982740550251436
         ]
        }
       ],
       "layout": {
        "hovermode": "closest",
        "xaxis": {
         "tickangle": -45
        }
       }
      },
      "text/html": [
       "<div id=\"588acf08-be54-4d9e-8bb7-9d384cb1cf34\" style=\"height: 525px; width: 100%;\" class=\"plotly-graph-div\"></div><script type=\"text/javascript\">require([\"plotly\"], function(Plotly) { window.PLOTLYENV=window.PLOTLYENV || {};window.PLOTLYENV.BASE_URL=\"https://plot.ly\";Plotly.newPlot(\"588acf08-be54-4d9e-8bb7-9d384cb1cf34\", [{\"type\": \"bar\", \"x\": [\"safety_low\", \"persons_2\", \"safety_high\", \"persons_4\", \"safety_med\", \"persons_more\", \"maint_vhigh\", \"buying_vhigh\", \"buying_low\", \"maint_low\", \"lug_boot_small\", \"buying_high\", \"maint_high\", \"buying_med\", \"lug_boot_big\", \"maint_med\", \"doors_2\", \"lug_boot_med\", \"doors_5more\", \"doors_4\", \"doors_3\"], \"y\": [0.21567582679932157, 0.1927872310243188, 0.1042117246927066, 0.0635998912197189, 0.06184505786967827, 0.05734873043746509, 0.05361688649268313, 0.03383252551253405, 0.03221821559011827, 0.031089964431758182, 0.027243210771813946, 0.026954101661160117, 0.026458961387267145, 0.021860148382383055, 0.011954711251478642, 0.01081156088299845, 0.009695854134429003, 0.005880142544560691, 0.004924163467638557, 0.004392817390942494, 0.0035982740550251436]}], {\"xaxis\": {\"tickangle\": -45}, \"hovermode\": \"closest\"}, {\"showLink\": true, \"linkText\": \"Export to plot.ly\"})});</script>"
      ],
      "text/vnd.plotly.v1+html": [
       "<div id=\"588acf08-be54-4d9e-8bb7-9d384cb1cf34\" style=\"height: 525px; width: 100%;\" class=\"plotly-graph-div\"></div><script type=\"text/javascript\">require([\"plotly\"], function(Plotly) { window.PLOTLYENV=window.PLOTLYENV || {};window.PLOTLYENV.BASE_URL=\"https://plot.ly\";Plotly.newPlot(\"588acf08-be54-4d9e-8bb7-9d384cb1cf34\", [{\"type\": \"bar\", \"x\": [\"safety_low\", \"persons_2\", \"safety_high\", \"persons_4\", \"safety_med\", \"persons_more\", \"maint_vhigh\", \"buying_vhigh\", \"buying_low\", \"maint_low\", \"lug_boot_small\", \"buying_high\", \"maint_high\", \"buying_med\", \"lug_boot_big\", \"maint_med\", \"doors_2\", \"lug_boot_med\", \"doors_5more\", \"doors_4\", \"doors_3\"], \"y\": [0.21567582679932157, 0.1927872310243188, 0.1042117246927066, 0.0635998912197189, 0.06184505786967827, 0.05734873043746509, 0.05361688649268313, 0.03383252551253405, 0.03221821559011827, 0.031089964431758182, 0.027243210771813946, 0.026954101661160117, 0.026458961387267145, 0.021860148382383055, 0.011954711251478642, 0.01081156088299845, 0.009695854134429003, 0.005880142544560691, 0.004924163467638557, 0.004392817390942494, 0.0035982740550251436]}], {\"xaxis\": {\"tickangle\": -45}, \"hovermode\": \"closest\"}, {\"showLink\": true, \"linkText\": \"Export to plot.ly\"})});</script>"
      ]
     },
     "metadata": {},
     "output_type": "display_data"
    }
   ],
   "source": [
    "trace = go.Bar(\n",
    "    x = feature_importances_df['feature'],\n",
    "    y = feature_importances_df['importance']\n",
    ")\n",
    "\n",
    "data = [trace]\n",
    "\n",
    "layout = go.Layout(\n",
    "    xaxis=dict(tickangle=-45),\n",
    "    hovermode='closest'\n",
    ")\n",
    "\n",
    "fig = go.Figure(data=data, layout=layout)\n",
    "\n",
    "iplot(fig)"
   ]
  }
 ],
 "metadata": {
  "kernelspec": {
   "display_name": "Python [conda env:Python3]",
   "language": "python",
   "name": "conda-env-Python3-py"
  },
  "language_info": {
   "codemirror_mode": {
    "name": "ipython",
    "version": 3
   },
   "file_extension": ".py",
   "mimetype": "text/x-python",
   "name": "python",
   "nbconvert_exporter": "python",
   "pygments_lexer": "ipython3",
   "version": "3.6.5"
  }
 },
 "nbformat": 4,
 "nbformat_minor": 2
}
